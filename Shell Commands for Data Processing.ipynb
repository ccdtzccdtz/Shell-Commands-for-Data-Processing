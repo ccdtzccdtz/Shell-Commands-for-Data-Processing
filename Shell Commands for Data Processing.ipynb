{
 "cells": [
  {
   "cell_type": "markdown",
   "metadata": {},
   "source": [
    "## wc\n",
    "#### count number of lines in a csv\n",
    "`wc -l data.csv`\n",
    "#### count number of words in a csv\n",
    "`wc -w data.csv`\n",
    "#### count number of files in a folder: feed `ls` result to`wc -l`\n",
    "`ls -l <folder> | wc -l`"
   ]
  },
  {
   "cell_type": "markdown",
   "metadata": {},
   "source": [
    "## head and tail\n",
    "#### first n lines or last n lines of a csv\n",
    "`head -n 2 data.csv`\n",
    "\n",
    "`head -n 120 data.csv | tail -n 20 > 1.csv`"
   ]
  },
  {
   "cell_type": "markdown",
   "metadata": {},
   "source": [
    "## cat\n",
    "#### Concatenate multiple files\n",
    "`cat 1.csv 2.csv > merge.csv`"
   ]
  },
  {
   "cell_type": "markdown",
   "metadata": {},
   "source": [
    "## sed\n",
    "#### replace \"?\" with empty string\n",
    "`sed \"s/, ?,/,,/g\" 1.csv >  1.csv`"
   ]
  },
  {
   "cell_type": "markdown",
   "metadata": {},
   "source": [
    "## uniq and sort\n",
    "`uniq -c`: which adds the repetition count to each line;\n",
    "`uniq -d`: which only outputs duplicate lines; And\n",
    "`uniq -u`: which only outputs unique lines.\n",
    "#### finding duplicate lines in a file\n",
    "`sort 1.csv | uniq -d | wc -l`"
   ]
  },
  {
   "cell_type": "markdown",
   "metadata": {},
   "source": [
    "## cut\n",
    "#### select 2nd column of a csv\n",
    "`cut -d \",\" -f 2 data.csv | head -3`"
   ]
  }
 ],
 "metadata": {
  "kernelspec": {
   "display_name": "Python 3",
   "language": "python",
   "name": "python3"
  },
  "language_info": {
   "codemirror_mode": {
    "name": "ipython",
    "version": 3
   },
   "file_extension": ".py",
   "mimetype": "text/x-python",
   "name": "python",
   "nbconvert_exporter": "python",
   "pygments_lexer": "ipython3",
   "version": "3.6.1"
  }
 },
 "nbformat": 4,
 "nbformat_minor": 2
}
